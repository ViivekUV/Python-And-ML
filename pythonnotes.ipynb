{
  "nbformat": 4,
  "nbformat_minor": 0,
  "metadata": {
    "kernelspec": {
      "display_name": "Python 3",
      "language": "python",
      "name": "python3"
    },
    "language_info": {
      "codemirror_mode": {
        "name": "ipython",
        "version": 3
      },
      "file_extension": ".py",
      "mimetype": "text/x-python",
      "name": "python",
      "nbconvert_exporter": "python",
      "pygments_lexer": "ipython3",
      "version": "3.7.3"
    },
    "colab": {
      "name": "pythonnotes.ipynb",
      "provenance": [],
      "include_colab_link": true
    }
  },
  "cells": [
    {
      "cell_type": "markdown",
      "metadata": {
        "id": "view-in-github",
        "colab_type": "text"
      },
      "source": [
        "<a href=\"https://colab.research.google.com/github/vybhav2000/Python-And-ML/blob/master/pythonnotes.ipynb\" target=\"_parent\"><img src=\"https://colab.research.google.com/assets/colab-badge.svg\" alt=\"Open In Colab\"/></a>"
      ]
    },
    {
      "cell_type": "markdown",
      "metadata": {
        "id": "98CdQrekBUGj",
        "colab_type": "text"
      },
      "source": [
        "\n",
        "___\n",
        "# Python Notebook\n",
        "\n",
        "\n",
        "This notebook will just go through the basic topics in order:\n",
        "\n",
        "* Data types\n",
        "    * Numbers\n",
        "    * Strings\n",
        "    * Printing\n",
        "    * Lists\n",
        "    * Dictionaries\n",
        "    * Booleans\n",
        "    * Tuples \n",
        "    * Sets\n",
        "* Comparison Operators\n",
        "* if, elif, else Statements\n",
        "* for Loops\n",
        "* while Loops\n",
        "* range()\n",
        "* list comprehension\n",
        "* functions\n",
        "* lambda expressions\n",
        "* map and filter\n",
        "* methods\n",
        "____"
      ]
    },
    {
      "cell_type": "code",
      "metadata": {
        "id": "Y6UIAwv2B2Qn",
        "colab_type": "code",
        "colab": {}
      },
      "source": [
        ""
      ],
      "execution_count": 0,
      "outputs": []
    },
    {
      "cell_type": "markdown",
      "metadata": {
        "id": "1D5T1xxFB4EG",
        "colab_type": "text"
      },
      "source": [
        " **Let's start now!!**\n",
        "\n",
        " "
      ]
    },
    {
      "cell_type": "markdown",
      "metadata": {
        "id": "63Si7IxPBUGl",
        "colab_type": "text"
      },
      "source": [
        "## Data types\n",
        "\n",
        "### Numbers"
      ]
    },
    {
      "cell_type": "code",
      "metadata": {
        "id": "g2Y7Qjf9BUGm",
        "colab_type": "code",
        "colab": {},
        "outputId": "735d57ae-c465-40c2-ec0b-b3d1c506621a"
      },
      "source": [
        "1 + 1"
      ],
      "execution_count": 0,
      "outputs": [
        {
          "output_type": "execute_result",
          "data": {
            "text/plain": [
              "2"
            ]
          },
          "metadata": {
            "tags": []
          },
          "execution_count": 6
        }
      ]
    },
    {
      "cell_type": "code",
      "metadata": {
        "id": "TycUE6wcBUGp",
        "colab_type": "code",
        "colab": {},
        "outputId": "466698cc-dcad-4c30-9b98-b64fbaa05a62"
      },
      "source": [
        "1 * 3"
      ],
      "execution_count": 0,
      "outputs": [
        {
          "output_type": "execute_result",
          "data": {
            "text/plain": [
              "3"
            ]
          },
          "metadata": {
            "tags": []
          },
          "execution_count": 7
        }
      ]
    },
    {
      "cell_type": "code",
      "metadata": {
        "id": "DewPGiITBUGr",
        "colab_type": "code",
        "colab": {},
        "outputId": "db35c1e6-975e-4a19-fa3f-210e75f89f63"
      },
      "source": [
        "1 / 2"
      ],
      "execution_count": 0,
      "outputs": [
        {
          "output_type": "execute_result",
          "data": {
            "text/plain": [
              "0.5"
            ]
          },
          "metadata": {
            "tags": []
          },
          "execution_count": 8
        }
      ]
    },
    {
      "cell_type": "code",
      "metadata": {
        "id": "bMdk8kJ7BUGs",
        "colab_type": "code",
        "colab": {},
        "outputId": "3ae91746-ad89-4e03-8899-37eefbb6b3ec"
      },
      "source": [
        "2 ** 4"
      ],
      "execution_count": 0,
      "outputs": [
        {
          "output_type": "execute_result",
          "data": {
            "text/plain": [
              "16"
            ]
          },
          "metadata": {
            "tags": []
          },
          "execution_count": 9
        }
      ]
    },
    {
      "cell_type": "code",
      "metadata": {
        "id": "x1DZKfzABUGu",
        "colab_type": "code",
        "colab": {},
        "outputId": "afdfaaef-c865-46ac-ec83-75abb7a1028c"
      },
      "source": [
        "4 % 2"
      ],
      "execution_count": 0,
      "outputs": [
        {
          "output_type": "execute_result",
          "data": {
            "text/plain": [
              "0"
            ]
          },
          "metadata": {
            "tags": []
          },
          "execution_count": 10
        }
      ]
    },
    {
      "cell_type": "code",
      "metadata": {
        "id": "CMbPTYORBUGw",
        "colab_type": "code",
        "colab": {},
        "outputId": "7cdcdddd-943c-444b-dc7c-2cc42c5d2449"
      },
      "source": [
        "5 % 2"
      ],
      "execution_count": 0,
      "outputs": [
        {
          "output_type": "execute_result",
          "data": {
            "text/plain": [
              "1"
            ]
          },
          "metadata": {
            "tags": []
          },
          "execution_count": 11
        }
      ]
    },
    {
      "cell_type": "code",
      "metadata": {
        "id": "8j0tAgToBUGy",
        "colab_type": "code",
        "colab": {},
        "outputId": "d3ed1e39-54ba-4e28-d915-0969a079a636"
      },
      "source": [
        "(2 + 3) * (5 + 5)"
      ],
      "execution_count": 0,
      "outputs": [
        {
          "output_type": "execute_result",
          "data": {
            "text/plain": [
              "50"
            ]
          },
          "metadata": {
            "tags": []
          },
          "execution_count": 12
        }
      ]
    },
    {
      "cell_type": "markdown",
      "metadata": {
        "id": "wzLUgIOzBUG0",
        "colab_type": "text"
      },
      "source": [
        "### Variable Assignment"
      ]
    },
    {
      "cell_type": "code",
      "metadata": {
        "id": "4S_KAQ1bBUG1",
        "colab_type": "code",
        "colab": {}
      },
      "source": [
        "# Can not start with number or special characters\n",
        "name_of_var = 2"
      ],
      "execution_count": 0,
      "outputs": []
    },
    {
      "cell_type": "code",
      "metadata": {
        "id": "RnDlp-oXBUG2",
        "colab_type": "code",
        "colab": {}
      },
      "source": [
        "x = 2\n",
        "y = 3"
      ],
      "execution_count": 0,
      "outputs": []
    },
    {
      "cell_type": "code",
      "metadata": {
        "id": "BQvJwDlHBUG5",
        "colab_type": "code",
        "colab": {}
      },
      "source": [
        "z = x + y"
      ],
      "execution_count": 0,
      "outputs": []
    },
    {
      "cell_type": "code",
      "metadata": {
        "id": "AaFSvm9XBUG7",
        "colab_type": "code",
        "colab": {},
        "outputId": "b1e4c120-a5f7-41d5-8374-0d992b821e25"
      },
      "source": [
        "z"
      ],
      "execution_count": 0,
      "outputs": [
        {
          "output_type": "execute_result",
          "data": {
            "text/plain": [
              "5"
            ]
          },
          "metadata": {
            "tags": []
          },
          "execution_count": 16
        }
      ]
    },
    {
      "cell_type": "markdown",
      "metadata": {
        "id": "dTyfVs1MBUG9",
        "colab_type": "text"
      },
      "source": [
        "### Strings"
      ]
    },
    {
      "cell_type": "code",
      "metadata": {
        "id": "dBLski6FBUG9",
        "colab_type": "code",
        "colab": {},
        "outputId": "0d37c4d3-03b1-4c9f-c454-ec2dff8abe5c"
      },
      "source": [
        "'single quotes'"
      ],
      "execution_count": 0,
      "outputs": [
        {
          "output_type": "execute_result",
          "data": {
            "text/plain": [
              "'single quotes'"
            ]
          },
          "metadata": {
            "tags": []
          },
          "execution_count": 17
        }
      ]
    },
    {
      "cell_type": "code",
      "metadata": {
        "id": "3M91tbilBUHA",
        "colab_type": "code",
        "colab": {},
        "outputId": "b8139fe5-f689-4ccc-d0bd-9163fc7394aa"
      },
      "source": [
        "\"double quotes\""
      ],
      "execution_count": 0,
      "outputs": [
        {
          "output_type": "execute_result",
          "data": {
            "text/plain": [
              "'double quotes'"
            ]
          },
          "metadata": {
            "tags": []
          },
          "execution_count": 18
        }
      ]
    },
    {
      "cell_type": "code",
      "metadata": {
        "id": "qcflb8SiBUHC",
        "colab_type": "code",
        "colab": {},
        "outputId": "02fc1786-ba5e-4f97-b3c4-05072763e6ad"
      },
      "source": [
        "\" wrap lot's of other quotes\""
      ],
      "execution_count": 0,
      "outputs": [
        {
          "output_type": "execute_result",
          "data": {
            "text/plain": [
              "\" wrap lot's of other quotes\""
            ]
          },
          "metadata": {
            "tags": []
          },
          "execution_count": 19
        }
      ]
    },
    {
      "cell_type": "markdown",
      "metadata": {
        "id": "UFmAkBscBUHE",
        "colab_type": "text"
      },
      "source": [
        "### Printing"
      ]
    },
    {
      "cell_type": "code",
      "metadata": {
        "id": "yWHg0c1XBUHF",
        "colab_type": "code",
        "colab": {}
      },
      "source": [
        "x = 'hello'"
      ],
      "execution_count": 0,
      "outputs": []
    },
    {
      "cell_type": "code",
      "metadata": {
        "id": "ZYolC_MUBUHH",
        "colab_type": "code",
        "colab": {},
        "outputId": "13119b61-421b-486e-f894-d40768538327"
      },
      "source": [
        "x"
      ],
      "execution_count": 0,
      "outputs": [
        {
          "output_type": "execute_result",
          "data": {
            "text/plain": [
              "'hello'"
            ]
          },
          "metadata": {
            "tags": []
          },
          "execution_count": 21
        }
      ]
    },
    {
      "cell_type": "code",
      "metadata": {
        "id": "GqfK8KLCBUHI",
        "colab_type": "code",
        "colab": {},
        "outputId": "76cbde7d-f035-4de1-8311-de335e957751"
      },
      "source": [
        "print(x)"
      ],
      "execution_count": 0,
      "outputs": [
        {
          "output_type": "stream",
          "text": [
            "hello\n"
          ],
          "name": "stdout"
        }
      ]
    },
    {
      "cell_type": "code",
      "metadata": {
        "id": "Zof1JzAYBUHK",
        "colab_type": "code",
        "colab": {}
      },
      "source": [
        "num = 12\n",
        "name = 'Sam'"
      ],
      "execution_count": 0,
      "outputs": []
    },
    {
      "cell_type": "code",
      "metadata": {
        "id": "7cp9NdBLBUHL",
        "colab_type": "code",
        "colab": {},
        "outputId": "99699bff-8f9c-4f53-f88d-3f42bf8c4a9c"
      },
      "source": [
        "print('My number is: {one}, and my name is: {two}'.format(one=num,two=name))"
      ],
      "execution_count": 0,
      "outputs": [
        {
          "output_type": "stream",
          "text": [
            "My number is: 12, and my name is: Sam\n"
          ],
          "name": "stdout"
        }
      ]
    },
    {
      "cell_type": "code",
      "metadata": {
        "id": "E7t0cUzCBUHO",
        "colab_type": "code",
        "colab": {},
        "outputId": "4ea3743c-1c1d-4676-f834-07c560225572"
      },
      "source": [
        "print('My number is: {}, and my name is: {}'.format(num,name))"
      ],
      "execution_count": 0,
      "outputs": [
        {
          "output_type": "stream",
          "text": [
            "My number is: 12, and my name is: Sam\n"
          ],
          "name": "stdout"
        }
      ]
    },
    {
      "cell_type": "markdown",
      "metadata": {
        "id": "3GBre_J2BUHR",
        "colab_type": "text"
      },
      "source": [
        "### Lists"
      ]
    },
    {
      "cell_type": "code",
      "metadata": {
        "id": "H0GmEp-FBUHS",
        "colab_type": "code",
        "colab": {},
        "outputId": "921b696f-0ccb-4d1b-c45e-4abfe91355d9"
      },
      "source": [
        "[1,2,3]"
      ],
      "execution_count": 0,
      "outputs": [
        {
          "output_type": "execute_result",
          "data": {
            "text/plain": [
              "[1, 2, 3]"
            ]
          },
          "metadata": {
            "tags": []
          },
          "execution_count": 26
        }
      ]
    },
    {
      "cell_type": "code",
      "metadata": {
        "id": "JuPatpkUBUHT",
        "colab_type": "code",
        "colab": {},
        "outputId": "82dc5b56-3746-4e0e-8336-1abf8191f2a2"
      },
      "source": [
        "['hi',1,[1,2]]"
      ],
      "execution_count": 0,
      "outputs": [
        {
          "output_type": "execute_result",
          "data": {
            "text/plain": [
              "['hi', 1, [1, 2]]"
            ]
          },
          "metadata": {
            "tags": []
          },
          "execution_count": 27
        }
      ]
    },
    {
      "cell_type": "code",
      "metadata": {
        "collapsed": true,
        "id": "0V1DPDWqBUHV",
        "colab_type": "code",
        "colab": {}
      },
      "source": [
        "my_list = ['a','b','c']"
      ],
      "execution_count": 0,
      "outputs": []
    },
    {
      "cell_type": "code",
      "metadata": {
        "collapsed": true,
        "id": "rKn7FvEzBUHW",
        "colab_type": "code",
        "colab": {}
      },
      "source": [
        "my_list.append('d')"
      ],
      "execution_count": 0,
      "outputs": []
    },
    {
      "cell_type": "code",
      "metadata": {
        "id": "5M3Iw8imBUHX",
        "colab_type": "code",
        "colab": {},
        "outputId": "b6e18ea1-518c-479b-caaf-31ee1f32b6ca"
      },
      "source": [
        "my_list"
      ],
      "execution_count": 0,
      "outputs": [
        {
          "output_type": "execute_result",
          "data": {
            "text/plain": [
              "['a', 'b', 'c', 'd']"
            ]
          },
          "metadata": {
            "tags": []
          },
          "execution_count": 30
        }
      ]
    },
    {
      "cell_type": "code",
      "metadata": {
        "id": "VGK0wyQkBUHZ",
        "colab_type": "code",
        "colab": {},
        "outputId": "0bfe576e-9098-46c7-ce53-e54f5ec99777"
      },
      "source": [
        "my_list[0]"
      ],
      "execution_count": 0,
      "outputs": [
        {
          "output_type": "execute_result",
          "data": {
            "text/plain": [
              "'a'"
            ]
          },
          "metadata": {
            "tags": []
          },
          "execution_count": 31
        }
      ]
    },
    {
      "cell_type": "code",
      "metadata": {
        "id": "TTE4jxS3BUHa",
        "colab_type": "code",
        "colab": {},
        "outputId": "616d823e-413c-4e18-96a4-1425e7cde94d"
      },
      "source": [
        "my_list[1]"
      ],
      "execution_count": 0,
      "outputs": [
        {
          "output_type": "execute_result",
          "data": {
            "text/plain": [
              "'b'"
            ]
          },
          "metadata": {
            "tags": []
          },
          "execution_count": 32
        }
      ]
    },
    {
      "cell_type": "code",
      "metadata": {
        "id": "16MIk2wTBUHc",
        "colab_type": "code",
        "colab": {},
        "outputId": "9ed273f6-75a4-42d1-c7d4-712f69a36de6"
      },
      "source": [
        "my_list[1:]"
      ],
      "execution_count": 0,
      "outputs": [
        {
          "output_type": "execute_result",
          "data": {
            "text/plain": [
              "['b', 'c', 'd']"
            ]
          },
          "metadata": {
            "tags": []
          },
          "execution_count": 33
        }
      ]
    },
    {
      "cell_type": "code",
      "metadata": {
        "id": "ZhgwyzqbBUHd",
        "colab_type": "code",
        "colab": {},
        "outputId": "123efe0c-68be-473f-bff9-3c4a8875a26b"
      },
      "source": [
        "my_list[:1]"
      ],
      "execution_count": 0,
      "outputs": [
        {
          "output_type": "execute_result",
          "data": {
            "text/plain": [
              "['a']"
            ]
          },
          "metadata": {
            "tags": []
          },
          "execution_count": 34
        }
      ]
    },
    {
      "cell_type": "code",
      "metadata": {
        "collapsed": true,
        "id": "CK5vlh9KBUHf",
        "colab_type": "code",
        "colab": {}
      },
      "source": [
        "my_list[0] = 'NEW'"
      ],
      "execution_count": 0,
      "outputs": []
    },
    {
      "cell_type": "code",
      "metadata": {
        "id": "HW-n6vi2BUHh",
        "colab_type": "code",
        "colab": {},
        "outputId": "66c20189-8d69-4335-ab51-ac22e094ff01"
      },
      "source": [
        "my_list"
      ],
      "execution_count": 0,
      "outputs": [
        {
          "output_type": "execute_result",
          "data": {
            "text/plain": [
              "['NEW', 'b', 'c', 'd']"
            ]
          },
          "metadata": {
            "tags": []
          },
          "execution_count": 98
        }
      ]
    },
    {
      "cell_type": "code",
      "metadata": {
        "collapsed": true,
        "id": "dl-LNs7xBUHi",
        "colab_type": "code",
        "colab": {}
      },
      "source": [
        "nest = [1,2,3,[4,5,['target']]]"
      ],
      "execution_count": 0,
      "outputs": []
    },
    {
      "cell_type": "code",
      "metadata": {
        "id": "1zN_t9pABUHk",
        "colab_type": "code",
        "colab": {},
        "outputId": "b1f3c134-1759-459c-ab53-25b7e49499a1"
      },
      "source": [
        "nest[3]"
      ],
      "execution_count": 0,
      "outputs": [
        {
          "output_type": "execute_result",
          "data": {
            "text/plain": [
              "[4, 5, ['target']]"
            ]
          },
          "metadata": {
            "tags": []
          },
          "execution_count": 100
        }
      ]
    },
    {
      "cell_type": "code",
      "metadata": {
        "id": "QFbJjGP8BUHm",
        "colab_type": "code",
        "colab": {},
        "outputId": "cb11cd5c-6e75-4716-abce-02ab3f373bfe"
      },
      "source": [
        "nest[3][2]"
      ],
      "execution_count": 0,
      "outputs": [
        {
          "output_type": "execute_result",
          "data": {
            "text/plain": [
              "['target']"
            ]
          },
          "metadata": {
            "tags": []
          },
          "execution_count": 101
        }
      ]
    },
    {
      "cell_type": "code",
      "metadata": {
        "id": "qc-4JriDBUHo",
        "colab_type": "code",
        "colab": {},
        "outputId": "920b8f56-b11e-4ae6-c93a-283ebdc1f732"
      },
      "source": [
        "nest[3][2][0]"
      ],
      "execution_count": 0,
      "outputs": [
        {
          "output_type": "execute_result",
          "data": {
            "text/plain": [
              "'target'"
            ]
          },
          "metadata": {
            "tags": []
          },
          "execution_count": 102
        }
      ]
    },
    {
      "cell_type": "markdown",
      "metadata": {
        "id": "yE73ZB8ZBUHp",
        "colab_type": "text"
      },
      "source": [
        "### Dictionaries"
      ]
    },
    {
      "cell_type": "code",
      "metadata": {
        "collapsed": true,
        "id": "FhZWP0ECBUHp",
        "colab_type": "code",
        "colab": {}
      },
      "source": [
        "d = {'key1':'item1','key2':'item2'}"
      ],
      "execution_count": 0,
      "outputs": []
    },
    {
      "cell_type": "code",
      "metadata": {
        "id": "zAJy7MauBUHr",
        "colab_type": "code",
        "colab": {},
        "outputId": "c775fce7-afbf-498e-ca26-3dce63076b89"
      },
      "source": [
        "d"
      ],
      "execution_count": 0,
      "outputs": [
        {
          "output_type": "execute_result",
          "data": {
            "text/plain": [
              "{'key1': 'item1', 'key2': 'item2'}"
            ]
          },
          "metadata": {
            "tags": []
          },
          "execution_count": 38
        }
      ]
    },
    {
      "cell_type": "code",
      "metadata": {
        "id": "LwOFplh8BUHs",
        "colab_type": "code",
        "colab": {},
        "outputId": "dbeeccf9-9047-4df8-d3c6-018dd1450035"
      },
      "source": [
        "d['key1']"
      ],
      "execution_count": 0,
      "outputs": [
        {
          "output_type": "execute_result",
          "data": {
            "text/plain": [
              "'item1'"
            ]
          },
          "metadata": {
            "tags": []
          },
          "execution_count": 39
        }
      ]
    },
    {
      "cell_type": "markdown",
      "metadata": {
        "id": "SGUt-x_oBUHu",
        "colab_type": "text"
      },
      "source": [
        "### Booleans"
      ]
    },
    {
      "cell_type": "code",
      "metadata": {
        "id": "ESsRE4tLBUHv",
        "colab_type": "code",
        "colab": {},
        "outputId": "ed51d1a0-815d-4f99-8e7e-9516dcd0afd6"
      },
      "source": [
        "True"
      ],
      "execution_count": 0,
      "outputs": [
        {
          "output_type": "execute_result",
          "data": {
            "text/plain": [
              "True"
            ]
          },
          "metadata": {
            "tags": []
          },
          "execution_count": 40
        }
      ]
    },
    {
      "cell_type": "code",
      "metadata": {
        "id": "xWe1BJQdBUHw",
        "colab_type": "code",
        "colab": {},
        "outputId": "55e930af-0306-4967-8611-d71b011581e5"
      },
      "source": [
        "False"
      ],
      "execution_count": 0,
      "outputs": [
        {
          "output_type": "execute_result",
          "data": {
            "text/plain": [
              "False"
            ]
          },
          "metadata": {
            "tags": []
          },
          "execution_count": 41
        }
      ]
    },
    {
      "cell_type": "markdown",
      "metadata": {
        "id": "bj3HdztQBUHy",
        "colab_type": "text"
      },
      "source": [
        "### Tuples "
      ]
    },
    {
      "cell_type": "code",
      "metadata": {
        "id": "R35h2xExBUHy",
        "colab_type": "code",
        "colab": {}
      },
      "source": [
        "t = (1,2,3)"
      ],
      "execution_count": 0,
      "outputs": []
    },
    {
      "cell_type": "code",
      "metadata": {
        "id": "9SyhLMvfBUH1",
        "colab_type": "code",
        "colab": {},
        "outputId": "ca586c17-3663-4393-a929-748ec55c5b89"
      },
      "source": [
        "t[0]"
      ],
      "execution_count": 0,
      "outputs": [
        {
          "output_type": "execute_result",
          "data": {
            "text/plain": [
              "1"
            ]
          },
          "metadata": {
            "tags": []
          },
          "execution_count": 43
        }
      ]
    },
    {
      "cell_type": "code",
      "metadata": {
        "scrolled": true,
        "id": "7wJaqOa5BUH4",
        "colab_type": "code",
        "colab": {},
        "outputId": "38153c14-9840-4a73-be3c-a5a58da4a758"
      },
      "source": [
        "t[0] = 'NEW'"
      ],
      "execution_count": 0,
      "outputs": [
        {
          "output_type": "error",
          "ename": "TypeError",
          "evalue": "'tuple' object does not support item assignment",
          "traceback": [
            "\u001b[0;31m---------------------------------------------------------------------------\u001b[0m",
            "\u001b[0;31mTypeError\u001b[0m                                 Traceback (most recent call last)",
            "\u001b[0;32m<ipython-input-44-97e4e33b36c2>\u001b[0m in \u001b[0;36m<module>\u001b[0;34m()\u001b[0m\n\u001b[0;32m----> 1\u001b[0;31m \u001b[0mt\u001b[0m\u001b[0;34m[\u001b[0m\u001b[0;36m0\u001b[0m\u001b[0;34m]\u001b[0m \u001b[0;34m=\u001b[0m \u001b[0;34m'NEW'\u001b[0m\u001b[0;34m\u001b[0m\u001b[0m\n\u001b[0m",
            "\u001b[0;31mTypeError\u001b[0m: 'tuple' object does not support item assignment"
          ]
        }
      ]
    },
    {
      "cell_type": "markdown",
      "metadata": {
        "id": "TExT-9zQBUH8",
        "colab_type": "text"
      },
      "source": [
        "### Sets"
      ]
    },
    {
      "cell_type": "code",
      "metadata": {
        "id": "bvvarVNGBUH8",
        "colab_type": "code",
        "colab": {},
        "outputId": "32da3593-1fc6-4b2d-d1ef-91682d1787bc"
      },
      "source": [
        "{1,2,3}"
      ],
      "execution_count": 0,
      "outputs": [
        {
          "output_type": "execute_result",
          "data": {
            "text/plain": [
              "{1, 2, 3}"
            ]
          },
          "metadata": {
            "tags": []
          },
          "execution_count": 45
        }
      ]
    },
    {
      "cell_type": "code",
      "metadata": {
        "id": "NGE-erofBUH_",
        "colab_type": "code",
        "colab": {},
        "outputId": "92640e36-2457-4cf1-9c9c-58f8a8c8edd0"
      },
      "source": [
        "{1,2,3,1,2,1,2,3,3,3,3,2,2,2,1,1,2}"
      ],
      "execution_count": 0,
      "outputs": [
        {
          "output_type": "execute_result",
          "data": {
            "text/plain": [
              "{1, 2, 3}"
            ]
          },
          "metadata": {
            "tags": []
          },
          "execution_count": 46
        }
      ]
    },
    {
      "cell_type": "markdown",
      "metadata": {
        "id": "SP-VWGopBUIC",
        "colab_type": "text"
      },
      "source": [
        "## Comparison Operators"
      ]
    },
    {
      "cell_type": "code",
      "metadata": {
        "id": "IkEE35jvBUIC",
        "colab_type": "code",
        "colab": {},
        "outputId": "450739b0-0b0d-4191-ed27-e918843edab4"
      },
      "source": [
        "1 > 2"
      ],
      "execution_count": 0,
      "outputs": [
        {
          "output_type": "execute_result",
          "data": {
            "text/plain": [
              "False"
            ]
          },
          "metadata": {
            "tags": []
          },
          "execution_count": 47
        }
      ]
    },
    {
      "cell_type": "code",
      "metadata": {
        "id": "wiPjxfCCBUIE",
        "colab_type": "code",
        "colab": {},
        "outputId": "044cb97d-e99c-4ef8-81e9-618aae859c7d"
      },
      "source": [
        "1 < 2"
      ],
      "execution_count": 0,
      "outputs": [
        {
          "output_type": "execute_result",
          "data": {
            "text/plain": [
              "True"
            ]
          },
          "metadata": {
            "tags": []
          },
          "execution_count": 48
        }
      ]
    },
    {
      "cell_type": "code",
      "metadata": {
        "id": "3hX9RpwWBUIF",
        "colab_type": "code",
        "colab": {},
        "outputId": "a3637f24-47e8-4eb5-d0a5-ac1f3062f5bc"
      },
      "source": [
        "1 >= 1"
      ],
      "execution_count": 0,
      "outputs": [
        {
          "output_type": "execute_result",
          "data": {
            "text/plain": [
              "True"
            ]
          },
          "metadata": {
            "tags": []
          },
          "execution_count": 49
        }
      ]
    },
    {
      "cell_type": "code",
      "metadata": {
        "id": "pedCbVZdBUIH",
        "colab_type": "code",
        "colab": {},
        "outputId": "1c785403-fef2-425c-e9fc-6d9ab82e8b15"
      },
      "source": [
        "1 <= 4"
      ],
      "execution_count": 0,
      "outputs": [
        {
          "output_type": "execute_result",
          "data": {
            "text/plain": [
              "True"
            ]
          },
          "metadata": {
            "tags": []
          },
          "execution_count": 50
        }
      ]
    },
    {
      "cell_type": "code",
      "metadata": {
        "id": "FTrF3FLzBUIJ",
        "colab_type": "code",
        "colab": {},
        "outputId": "fcd00c42-8ff3-48c6-c57a-1940606e6b2c"
      },
      "source": [
        "1 == 1"
      ],
      "execution_count": 0,
      "outputs": [
        {
          "output_type": "execute_result",
          "data": {
            "text/plain": [
              "True"
            ]
          },
          "metadata": {
            "tags": []
          },
          "execution_count": 51
        }
      ]
    },
    {
      "cell_type": "code",
      "metadata": {
        "id": "7locj5NiBUIK",
        "colab_type": "code",
        "colab": {},
        "outputId": "d514ff44-b074-4802-8928-8441cc330221"
      },
      "source": [
        "'hi' == 'bye'"
      ],
      "execution_count": 0,
      "outputs": [
        {
          "output_type": "execute_result",
          "data": {
            "text/plain": [
              "False"
            ]
          },
          "metadata": {
            "tags": []
          },
          "execution_count": 52
        }
      ]
    },
    {
      "cell_type": "markdown",
      "metadata": {
        "id": "HJTvyyzEBUIN",
        "colab_type": "text"
      },
      "source": [
        "## Logic Operators"
      ]
    },
    {
      "cell_type": "code",
      "metadata": {
        "id": "YgXRj_xNBUIO",
        "colab_type": "code",
        "colab": {},
        "outputId": "b7557082-311a-4d87-a1e1-effdd1b8e7c5"
      },
      "source": [
        "(1 > 2) and (2 < 3)"
      ],
      "execution_count": 0,
      "outputs": [
        {
          "output_type": "execute_result",
          "data": {
            "text/plain": [
              "False"
            ]
          },
          "metadata": {
            "tags": []
          },
          "execution_count": 53
        }
      ]
    },
    {
      "cell_type": "code",
      "metadata": {
        "id": "A8aH5n0ZBUIQ",
        "colab_type": "code",
        "colab": {},
        "outputId": "149177d0-68c8-4fab-b516-80dc2d8dc89a"
      },
      "source": [
        "(1 > 2) or (2 < 3)"
      ],
      "execution_count": 0,
      "outputs": [
        {
          "output_type": "execute_result",
          "data": {
            "text/plain": [
              "True"
            ]
          },
          "metadata": {
            "tags": []
          },
          "execution_count": 54
        }
      ]
    },
    {
      "cell_type": "code",
      "metadata": {
        "id": "oBVGVo8KBUIR",
        "colab_type": "code",
        "colab": {},
        "outputId": "a5d59a85-fc71-4fec-96ad-5b4892a59eb1"
      },
      "source": [
        "(1 == 2) or (2 == 3) or (4 == 4)"
      ],
      "execution_count": 0,
      "outputs": [
        {
          "output_type": "execute_result",
          "data": {
            "text/plain": [
              "True"
            ]
          },
          "metadata": {
            "tags": []
          },
          "execution_count": 55
        }
      ]
    },
    {
      "cell_type": "markdown",
      "metadata": {
        "id": "Oh83HctOBUIS",
        "colab_type": "text"
      },
      "source": [
        "## if,elif, else Statements"
      ]
    },
    {
      "cell_type": "code",
      "metadata": {
        "id": "edb_JGOFBUIS",
        "colab_type": "code",
        "colab": {},
        "outputId": "b8572b28-59a0-44c6-f60a-b017f99ccea3"
      },
      "source": [
        "if 1 < 2:\n",
        "    print('Yep!')"
      ],
      "execution_count": 0,
      "outputs": [
        {
          "output_type": "stream",
          "text": [
            "Yep!\n"
          ],
          "name": "stdout"
        }
      ]
    },
    {
      "cell_type": "code",
      "metadata": {
        "id": "icM77N8eBUIU",
        "colab_type": "code",
        "colab": {},
        "outputId": "dbd78463-eff9-4aa0-cc30-2937d03ec587"
      },
      "source": [
        "if 1 < 2:\n",
        "    print('yep!')"
      ],
      "execution_count": 0,
      "outputs": [
        {
          "output_type": "stream",
          "text": [
            "yep!\n"
          ],
          "name": "stdout"
        }
      ]
    },
    {
      "cell_type": "code",
      "metadata": {
        "id": "p-c3R6wEBUIV",
        "colab_type": "code",
        "colab": {},
        "outputId": "22ce0902-96d8-4069-d133-b87fe7eebc4c"
      },
      "source": [
        "if 1 < 2:\n",
        "    print('first')\n",
        "else:\n",
        "    print('last')"
      ],
      "execution_count": 0,
      "outputs": [
        {
          "output_type": "stream",
          "text": [
            "first\n"
          ],
          "name": "stdout"
        }
      ]
    },
    {
      "cell_type": "code",
      "metadata": {
        "id": "BHQ_7-6jBUIY",
        "colab_type": "code",
        "colab": {},
        "outputId": "b640c5b4-90b7-4783-fc5a-6855d3603849"
      },
      "source": [
        "if 1 > 2:\n",
        "    print('first')\n",
        "else:\n",
        "    print('last')"
      ],
      "execution_count": 0,
      "outputs": [
        {
          "output_type": "stream",
          "text": [
            "last\n"
          ],
          "name": "stdout"
        }
      ]
    },
    {
      "cell_type": "code",
      "metadata": {
        "id": "uFgpzi1_BUIZ",
        "colab_type": "code",
        "colab": {},
        "outputId": "2db4581b-5007-4e11-ff15-a25aa4a40dc1"
      },
      "source": [
        "if 1 == 2:\n",
        "    print('first')\n",
        "elif 3 == 3:\n",
        "    print('middle')\n",
        "else:\n",
        "    print('Last')"
      ],
      "execution_count": 0,
      "outputs": [
        {
          "output_type": "stream",
          "text": [
            "middle\n"
          ],
          "name": "stdout"
        }
      ]
    },
    {
      "cell_type": "markdown",
      "metadata": {
        "id": "vJF7nwRXBUIb",
        "colab_type": "text"
      },
      "source": [
        "## for Loops"
      ]
    },
    {
      "cell_type": "code",
      "metadata": {
        "id": "uiIRPwysBUIb",
        "colab_type": "code",
        "colab": {}
      },
      "source": [
        "seq = [1,2,3,4,5]"
      ],
      "execution_count": 0,
      "outputs": []
    },
    {
      "cell_type": "code",
      "metadata": {
        "id": "dppdmgGpBUIc",
        "colab_type": "code",
        "colab": {},
        "outputId": "f26c297b-7ce1-4f79-f81a-de74a76944ea"
      },
      "source": [
        "for item in seq:\n",
        "    print(item)"
      ],
      "execution_count": 0,
      "outputs": [
        {
          "output_type": "stream",
          "text": [
            "1\n",
            "2\n",
            "3\n",
            "4\n",
            "5\n"
          ],
          "name": "stdout"
        }
      ]
    },
    {
      "cell_type": "code",
      "metadata": {
        "id": "CsfoN92rBUId",
        "colab_type": "code",
        "colab": {},
        "outputId": "0b5bdb0d-6d42-4777-8ebb-9ea05b96c58c"
      },
      "source": [
        "for item in seq:\n",
        "    print('Yep')"
      ],
      "execution_count": 0,
      "outputs": [
        {
          "output_type": "stream",
          "text": [
            "Yep\n",
            "Yep\n",
            "Yep\n",
            "Yep\n",
            "Yep\n"
          ],
          "name": "stdout"
        }
      ]
    },
    {
      "cell_type": "code",
      "metadata": {
        "id": "UVB85jjCBUIe",
        "colab_type": "code",
        "colab": {},
        "outputId": "6cf77cdc-c8bc-46b4-c1cb-842aa0fd43c7"
      },
      "source": [
        "for jelly in seq:\n",
        "    print(jelly+jelly)"
      ],
      "execution_count": 0,
      "outputs": [
        {
          "output_type": "stream",
          "text": [
            "2\n",
            "4\n",
            "6\n",
            "8\n",
            "10\n"
          ],
          "name": "stdout"
        }
      ]
    },
    {
      "cell_type": "markdown",
      "metadata": {
        "id": "VVxa3cXkBUIg",
        "colab_type": "text"
      },
      "source": [
        "## while Loops"
      ]
    },
    {
      "cell_type": "code",
      "metadata": {
        "id": "zKk7HNfoBUIg",
        "colab_type": "code",
        "colab": {},
        "outputId": "fc072659-f7d5-40ff-d587-989e0f805d47"
      },
      "source": [
        "i = 1\n",
        "while i < 5:\n",
        "    print('i is: {}'.format(i))\n",
        "    i = i+1"
      ],
      "execution_count": 0,
      "outputs": [
        {
          "output_type": "stream",
          "text": [
            "i is: 1\n",
            "i is: 2\n",
            "i is: 3\n",
            "i is: 4\n"
          ],
          "name": "stdout"
        }
      ]
    },
    {
      "cell_type": "markdown",
      "metadata": {
        "id": "0wht0WmJBUIj",
        "colab_type": "text"
      },
      "source": [
        "## range()"
      ]
    },
    {
      "cell_type": "code",
      "metadata": {
        "id": "NLLQucADBUIj",
        "colab_type": "code",
        "colab": {},
        "outputId": "d45e54e0-a338-481c-92e0-321ec888d93a"
      },
      "source": [
        "range(5)"
      ],
      "execution_count": 0,
      "outputs": [
        {
          "output_type": "execute_result",
          "data": {
            "text/plain": [
              "range(0, 5)"
            ]
          },
          "metadata": {
            "tags": []
          },
          "execution_count": 66
        }
      ]
    },
    {
      "cell_type": "code",
      "metadata": {
        "id": "6PR20ZQzBUIk",
        "colab_type": "code",
        "colab": {},
        "outputId": "a6b19908-ec83-4651-9455-8518380397c4"
      },
      "source": [
        "for i in range(5):\n",
        "    print(i)"
      ],
      "execution_count": 0,
      "outputs": [
        {
          "output_type": "stream",
          "text": [
            "0\n",
            "1\n",
            "2\n",
            "3\n",
            "4\n"
          ],
          "name": "stdout"
        }
      ]
    },
    {
      "cell_type": "code",
      "metadata": {
        "id": "WVsM3V5NBUIm",
        "colab_type": "code",
        "colab": {},
        "outputId": "ef79303e-1299-49ce-d988-d1ea6b84d52d"
      },
      "source": [
        "list(range(5))"
      ],
      "execution_count": 0,
      "outputs": [
        {
          "output_type": "execute_result",
          "data": {
            "text/plain": [
              "[0, 1, 2, 3, 4]"
            ]
          },
          "metadata": {
            "tags": []
          },
          "execution_count": 68
        }
      ]
    },
    {
      "cell_type": "markdown",
      "metadata": {
        "id": "v0K7XjciBUIp",
        "colab_type": "text"
      },
      "source": [
        "## list comprehension"
      ]
    },
    {
      "cell_type": "code",
      "metadata": {
        "collapsed": true,
        "id": "1fProTAKBUIp",
        "colab_type": "code",
        "colab": {}
      },
      "source": [
        "x = [1,2,3,4]"
      ],
      "execution_count": 0,
      "outputs": []
    },
    {
      "cell_type": "code",
      "metadata": {
        "id": "1rNoJL3WBUIr",
        "colab_type": "code",
        "colab": {},
        "outputId": "471c707e-524f-4507-e7dc-584704e623d3"
      },
      "source": [
        "out = []\n",
        "for item in x:\n",
        "    out.append(item**2)\n",
        "print(out)"
      ],
      "execution_count": 0,
      "outputs": [
        {
          "output_type": "stream",
          "text": [
            "[1, 4, 9, 16]\n"
          ],
          "name": "stdout"
        }
      ]
    },
    {
      "cell_type": "code",
      "metadata": {
        "id": "O36vdKNPBUIs",
        "colab_type": "code",
        "colab": {},
        "outputId": "60da9a95-ecec-405c-a6c5-a405e4447e6d"
      },
      "source": [
        "[item**2 for item in x]"
      ],
      "execution_count": 0,
      "outputs": [
        {
          "output_type": "execute_result",
          "data": {
            "text/plain": [
              "[1, 4, 9, 16]"
            ]
          },
          "metadata": {
            "tags": []
          },
          "execution_count": 71
        }
      ]
    },
    {
      "cell_type": "markdown",
      "metadata": {
        "id": "bCqvl_2pBUIt",
        "colab_type": "text"
      },
      "source": [
        "## functions"
      ]
    },
    {
      "cell_type": "code",
      "metadata": {
        "collapsed": true,
        "id": "KItec2OIBUIu",
        "colab_type": "code",
        "colab": {}
      },
      "source": [
        "def my_func(param1='default'):\n",
        "    \"\"\"\n",
        "    Docstring goes here.\n",
        "    \"\"\"\n",
        "    print(param1)"
      ],
      "execution_count": 0,
      "outputs": []
    },
    {
      "cell_type": "code",
      "metadata": {
        "id": "C84oPmJcBUIu",
        "colab_type": "code",
        "colab": {},
        "outputId": "59a53197-2e02-4ba0-9a1c-bb28a3309873"
      },
      "source": [
        "my_func"
      ],
      "execution_count": 0,
      "outputs": [
        {
          "output_type": "execute_result",
          "data": {
            "text/plain": [
              "<function __main__.my_func>"
            ]
          },
          "metadata": {
            "tags": []
          },
          "execution_count": 73
        }
      ]
    },
    {
      "cell_type": "code",
      "metadata": {
        "id": "H6CE4AgFBUIw",
        "colab_type": "code",
        "colab": {},
        "outputId": "691ca650-4cfe-4bf1-d0a5-1707fab53a9b"
      },
      "source": [
        "my_func()"
      ],
      "execution_count": 0,
      "outputs": [
        {
          "output_type": "stream",
          "text": [
            "default\n"
          ],
          "name": "stdout"
        }
      ]
    },
    {
      "cell_type": "code",
      "metadata": {
        "id": "QxxdCETfBUIy",
        "colab_type": "code",
        "colab": {},
        "outputId": "5c293917-2010-4b08-8f03-b06c000dad6d"
      },
      "source": [
        "my_func('new param')"
      ],
      "execution_count": 0,
      "outputs": [
        {
          "output_type": "stream",
          "text": [
            "new param\n"
          ],
          "name": "stdout"
        }
      ]
    },
    {
      "cell_type": "code",
      "metadata": {
        "id": "QGsZ8z7vBUIy",
        "colab_type": "code",
        "colab": {},
        "outputId": "cb423363-716e-43ad-ee0c-de9ba02a2932"
      },
      "source": [
        "my_func(param1='new param')"
      ],
      "execution_count": 0,
      "outputs": [
        {
          "output_type": "stream",
          "text": [
            "new param\n"
          ],
          "name": "stdout"
        }
      ]
    },
    {
      "cell_type": "code",
      "metadata": {
        "collapsed": true,
        "id": "vzhZ86uyBUI0",
        "colab_type": "code",
        "colab": {}
      },
      "source": [
        "def square(x):\n",
        "    return x**2"
      ],
      "execution_count": 0,
      "outputs": []
    },
    {
      "cell_type": "code",
      "metadata": {
        "collapsed": true,
        "id": "eJA5cnwqBUI1",
        "colab_type": "code",
        "colab": {}
      },
      "source": [
        "out = square(2)"
      ],
      "execution_count": 0,
      "outputs": []
    },
    {
      "cell_type": "code",
      "metadata": {
        "scrolled": true,
        "id": "sEtZ2i55BUI4",
        "colab_type": "code",
        "colab": {},
        "outputId": "4964c6c2-edec-4847-8d1e-d7fcc2b89122"
      },
      "source": [
        "print(out)"
      ],
      "execution_count": 0,
      "outputs": [
        {
          "output_type": "stream",
          "text": [
            "4\n"
          ],
          "name": "stdout"
        }
      ]
    },
    {
      "cell_type": "markdown",
      "metadata": {
        "id": "7x9v1JC3BUI6",
        "colab_type": "text"
      },
      "source": [
        "## lambda expressions"
      ]
    },
    {
      "cell_type": "code",
      "metadata": {
        "id": "2ZvFieQVBUI6",
        "colab_type": "code",
        "colab": {}
      },
      "source": [
        "def times2(var):\n",
        "    return var*2"
      ],
      "execution_count": 0,
      "outputs": []
    },
    {
      "cell_type": "code",
      "metadata": {
        "id": "pzJ47UZmBUI8",
        "colab_type": "code",
        "colab": {},
        "outputId": "ef27c69d-20c7-469a-9954-3a45a7d4b693"
      },
      "source": [
        "times2(2)"
      ],
      "execution_count": 0,
      "outputs": [
        {
          "output_type": "execute_result",
          "data": {
            "text/plain": [
              "4"
            ]
          },
          "metadata": {
            "tags": []
          },
          "execution_count": 81
        }
      ]
    },
    {
      "cell_type": "code",
      "metadata": {
        "id": "2JH6kCMuBUI9",
        "colab_type": "code",
        "colab": {
          "base_uri": "https://localhost:8080/",
          "height": 34
        },
        "outputId": "6d2a7b94-f97c-4bec-ad87-e04f085e3a46"
      },
      "source": [
        "x=lambda var: var*2\n",
        "x(3)"
      ],
      "execution_count": 2,
      "outputs": [
        {
          "output_type": "execute_result",
          "data": {
            "text/plain": [
              "6"
            ]
          },
          "metadata": {
            "tags": []
          },
          "execution_count": 2
        }
      ]
    },
    {
      "cell_type": "markdown",
      "metadata": {
        "id": "9-fZiDbUBUI-",
        "colab_type": "text"
      },
      "source": [
        "## map and filter"
      ]
    },
    {
      "cell_type": "code",
      "metadata": {
        "collapsed": true,
        "id": "1KoTsVtPBUI-",
        "colab_type": "code",
        "colab": {}
      },
      "source": [
        "seq = [1,2,3,4,5]"
      ],
      "execution_count": 0,
      "outputs": []
    },
    {
      "cell_type": "code",
      "metadata": {
        "id": "iOTBTk4uBUI_",
        "colab_type": "code",
        "colab": {},
        "outputId": "e86f1b4f-f2a2-42cb-80ad-820a57204ad5"
      },
      "source": [
        "map(times2,seq)"
      ],
      "execution_count": 0,
      "outputs": [
        {
          "output_type": "execute_result",
          "data": {
            "text/plain": [
              "<map at 0x105316748>"
            ]
          },
          "metadata": {
            "tags": []
          },
          "execution_count": 84
        }
      ]
    },
    {
      "cell_type": "code",
      "metadata": {
        "id": "vdHxtXcRBUJA",
        "colab_type": "code",
        "colab": {},
        "outputId": "585a5feb-739e-4c18-fa5b-ccff786036aa"
      },
      "source": [
        "list(map(times2,seq))"
      ],
      "execution_count": 0,
      "outputs": [
        {
          "output_type": "execute_result",
          "data": {
            "text/plain": [
              "[2, 4, 6, 8, 10]"
            ]
          },
          "metadata": {
            "tags": []
          },
          "execution_count": 85
        }
      ]
    },
    {
      "cell_type": "code",
      "metadata": {
        "id": "zSujgwmnBUJD",
        "colab_type": "code",
        "colab": {},
        "outputId": "0b5e8e01-925d-4167-b530-aa3cb2a8212e"
      },
      "source": [
        "list(map(lambda var: var*2,seq))"
      ],
      "execution_count": 0,
      "outputs": [
        {
          "output_type": "execute_result",
          "data": {
            "text/plain": [
              "[2, 4, 6, 8, 10]"
            ]
          },
          "metadata": {
            "tags": []
          },
          "execution_count": 86
        }
      ]
    },
    {
      "cell_type": "code",
      "metadata": {
        "id": "G3mDTN1kBUJE",
        "colab_type": "code",
        "colab": {},
        "outputId": "92860c1c-4e51-4a6e-e1ff-749d8c0b1acb"
      },
      "source": [
        "filter(lambda item: item%2 == 0,seq)"
      ],
      "execution_count": 0,
      "outputs": [
        {
          "output_type": "execute_result",
          "data": {
            "text/plain": [
              "<filter at 0x105316ac8>"
            ]
          },
          "metadata": {
            "tags": []
          },
          "execution_count": 87
        }
      ]
    },
    {
      "cell_type": "code",
      "metadata": {
        "id": "uTTSrnMpBUJI",
        "colab_type": "code",
        "colab": {},
        "outputId": "c2bdcf9a-837d-4362-aedb-342930722315"
      },
      "source": [
        "list(filter(lambda item: item%2 == 0,seq))"
      ],
      "execution_count": 0,
      "outputs": [
        {
          "output_type": "execute_result",
          "data": {
            "text/plain": [
              "[2, 4]"
            ]
          },
          "metadata": {
            "tags": []
          },
          "execution_count": 88
        }
      ]
    },
    {
      "cell_type": "markdown",
      "metadata": {
        "id": "_8z8VvPOBUJK",
        "colab_type": "text"
      },
      "source": [
        "## methods"
      ]
    },
    {
      "cell_type": "code",
      "metadata": {
        "id": "Ykg7H2rzBUJL",
        "colab_type": "code",
        "colab": {}
      },
      "source": [
        "st = 'hello my name is Sam'"
      ],
      "execution_count": 0,
      "outputs": []
    },
    {
      "cell_type": "code",
      "metadata": {
        "id": "QdssCI6iBUJM",
        "colab_type": "code",
        "colab": {},
        "outputId": "387465e3-7b3f-4e53-e68c-ea14d9cfe656"
      },
      "source": [
        "st.lower()"
      ],
      "execution_count": 0,
      "outputs": [
        {
          "output_type": "execute_result",
          "data": {
            "text/plain": [
              "'hello my name is sam'"
            ]
          },
          "metadata": {
            "tags": []
          },
          "execution_count": 112
        }
      ]
    },
    {
      "cell_type": "code",
      "metadata": {
        "id": "FsFsKc_aBUJN",
        "colab_type": "code",
        "colab": {},
        "outputId": "66e35074-abb2-4de0-ad57-0f87bf4855fe"
      },
      "source": [
        "st.upper()"
      ],
      "execution_count": 0,
      "outputs": [
        {
          "output_type": "execute_result",
          "data": {
            "text/plain": [
              "'HELLO MY NAME IS SAM'"
            ]
          },
          "metadata": {
            "tags": []
          },
          "execution_count": 113
        }
      ]
    },
    {
      "cell_type": "code",
      "metadata": {
        "id": "hwJ1FPKaBUJO",
        "colab_type": "code",
        "colab": {},
        "outputId": "f06df978-fbf7-4b2e-c4f6-ee81bbf4d04a"
      },
      "source": [
        "st.split()"
      ],
      "execution_count": 0,
      "outputs": [
        {
          "output_type": "execute_result",
          "data": {
            "text/plain": [
              "['hello', 'my', 'name', 'is', 'Sam']"
            ]
          },
          "metadata": {
            "tags": []
          },
          "execution_count": 103
        }
      ]
    },
    {
      "cell_type": "code",
      "metadata": {
        "id": "ZsRuxWqZBUJP",
        "colab_type": "code",
        "colab": {}
      },
      "source": [
        "tweet = 'Go Sports! #Sports'"
      ],
      "execution_count": 0,
      "outputs": []
    },
    {
      "cell_type": "code",
      "metadata": {
        "id": "GK8LyiZCBUJP",
        "colab_type": "code",
        "colab": {},
        "outputId": "9b235a62-d64f-4d4e-f520-9f157a8cf69b"
      },
      "source": [
        "tweet.split('#')"
      ],
      "execution_count": 0,
      "outputs": [
        {
          "output_type": "execute_result",
          "data": {
            "text/plain": [
              "['Go Sports! ', 'Sports']"
            ]
          },
          "metadata": {
            "tags": []
          },
          "execution_count": 106
        }
      ]
    },
    {
      "cell_type": "code",
      "metadata": {
        "id": "Hbed8qtxBUJQ",
        "colab_type": "code",
        "colab": {},
        "outputId": "4a33a8c4-661a-4cb7-a325-6c07d63c2ee1"
      },
      "source": [
        "tweet.split('#')[1]"
      ],
      "execution_count": 0,
      "outputs": [
        {
          "output_type": "execute_result",
          "data": {
            "text/plain": [
              "'Sports'"
            ]
          },
          "metadata": {
            "tags": []
          },
          "execution_count": 107
        }
      ]
    },
    {
      "cell_type": "code",
      "metadata": {
        "id": "e9SS_rO5BUJR",
        "colab_type": "code",
        "colab": {},
        "outputId": "0e7118da-7728-405a-b7b0-c271aa7cb208"
      },
      "source": [
        "d"
      ],
      "execution_count": 0,
      "outputs": [
        {
          "output_type": "execute_result",
          "data": {
            "text/plain": [
              "{'key1': 'item1', 'key2': 'item2'}"
            ]
          },
          "metadata": {
            "tags": []
          },
          "execution_count": 92
        }
      ]
    },
    {
      "cell_type": "code",
      "metadata": {
        "id": "qBlSPUBlBUJR",
        "colab_type": "code",
        "colab": {},
        "outputId": "99d7d3ca-64f2-4f98-e662-4e0ef37f64cf"
      },
      "source": [
        "d.keys()"
      ],
      "execution_count": 0,
      "outputs": [
        {
          "output_type": "execute_result",
          "data": {
            "text/plain": [
              "dict_keys(['key2', 'key1'])"
            ]
          },
          "metadata": {
            "tags": []
          },
          "execution_count": 93
        }
      ]
    },
    {
      "cell_type": "code",
      "metadata": {
        "id": "njcZavDfBUJS",
        "colab_type": "code",
        "colab": {},
        "outputId": "438970b7-21c3-4cc1-dbb4-5724891c3826"
      },
      "source": [
        "d.items()"
      ],
      "execution_count": 0,
      "outputs": [
        {
          "output_type": "execute_result",
          "data": {
            "text/plain": [
              "dict_items([('key2', 'item2'), ('key1', 'item1')])"
            ]
          },
          "metadata": {
            "tags": []
          },
          "execution_count": 94
        }
      ]
    },
    {
      "cell_type": "code",
      "metadata": {
        "id": "V4f-GJ4ABUJU",
        "colab_type": "code",
        "colab": {}
      },
      "source": [
        "lst = [1,2,3]"
      ],
      "execution_count": 0,
      "outputs": []
    },
    {
      "cell_type": "code",
      "metadata": {
        "id": "ejlsH58mBUJU",
        "colab_type": "code",
        "colab": {},
        "outputId": "e6968931-e6e5-4f67-c0c8-5a9dd662f9d4"
      },
      "source": [
        "lst.pop()"
      ],
      "execution_count": 0,
      "outputs": [
        {
          "output_type": "execute_result",
          "data": {
            "text/plain": [
              "3"
            ]
          },
          "metadata": {
            "tags": []
          },
          "execution_count": 96
        }
      ]
    },
    {
      "cell_type": "code",
      "metadata": {
        "id": "wN5i3RgqBUJV",
        "colab_type": "code",
        "colab": {},
        "outputId": "620a3c79-99bd-48a2-c1a6-572512481a9a"
      },
      "source": [
        "lst"
      ],
      "execution_count": 0,
      "outputs": [
        {
          "output_type": "execute_result",
          "data": {
            "text/plain": [
              "[1, 2]"
            ]
          },
          "metadata": {
            "tags": []
          },
          "execution_count": 108
        }
      ]
    },
    {
      "cell_type": "code",
      "metadata": {
        "id": "JtQ49gOXBUJW",
        "colab_type": "code",
        "colab": {
          "base_uri": "https://localhost:8080/",
          "height": 34
        },
        "outputId": "0596f262-7efa-41d4-9431-3667d0e1d497"
      },
      "source": [
        "'x' in [1,2,3]"
      ],
      "execution_count": 1,
      "outputs": [
        {
          "output_type": "execute_result",
          "data": {
            "text/plain": [
              "False"
            ]
          },
          "metadata": {
            "tags": []
          },
          "execution_count": 1
        }
      ]
    },
    {
      "cell_type": "code",
      "metadata": {
        "id": "yak_sbrsBUJW",
        "colab_type": "code",
        "colab": {},
        "outputId": "d9c39a2d-c116-4fc5-8c40-ad8874817cac"
      },
      "source": [
        "'x' in ['x','y','z']"
      ],
      "execution_count": 0,
      "outputs": [
        {
          "output_type": "execute_result",
          "data": {
            "text/plain": [
              "True"
            ]
          },
          "metadata": {
            "tags": []
          },
          "execution_count": 110
        }
      ]
    },
    {
      "cell_type": "markdown",
      "metadata": {
        "id": "Q8nhY6zdBUJX",
        "colab_type": "text"
      },
      "source": [
        "# Great Job!"
      ]
    }
  ]
}